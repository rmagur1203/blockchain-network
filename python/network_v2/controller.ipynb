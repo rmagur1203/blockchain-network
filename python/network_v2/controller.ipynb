{
 "cells": [
  {
   "cell_type": "code",
   "execution_count": 1,
   "metadata": {},
   "outputs": [
    {
     "name": "stdout",
     "output_type": "stream",
     "text": [
      "Requirement already satisfied: requests in d:\\projects\\school\\blockchain\\.venv\\lib\\site-packages (2.32.3)Note: you may need to restart the kernel to use updated packages.\n",
      "\n",
      "Requirement already satisfied: charset-normalizer<4,>=2 in d:\\projects\\school\\blockchain\\.venv\\lib\\site-packages (from requests) (3.3.2)\n",
      "Requirement already satisfied: idna<4,>=2.5 in d:\\projects\\school\\blockchain\\.venv\\lib\\site-packages (from requests) (3.10)\n",
      "Requirement already satisfied: urllib3<3,>=1.21.1 in d:\\projects\\school\\blockchain\\.venv\\lib\\site-packages (from requests) (2.2.3)\n",
      "Requirement already satisfied: certifi>=2017.4.17 in d:\\projects\\school\\blockchain\\.venv\\lib\\site-packages (from requests) (2024.8.30)\n"
     ]
    }
   ],
   "source": [
    "%pip install requests\n",
    "\n",
    "import requests\n",
    "import json"
   ]
  },
  {
   "cell_type": "code",
   "execution_count": 140,
   "metadata": {},
   "outputs": [
    {
     "name": "stdout",
     "output_type": "stream",
     "text": [
      "register node to http://localhost:5000\n"
     ]
    }
   ],
   "source": [
    "headers = {'Content-Type': 'application/json; charset=utf-8'}\n",
    "data = {\n",
    "    \"nodes\": 'http://localhost:5001'\n",
    "}\n",
    "requests.post(\"http://localhost:5000/nodes/register\", headers=headers, data=json.dumps(data))\n",
    "print(\"register node to http://localhost:5000\")"
   ]
  },
  {
   "cell_type": "code",
   "execution_count": 141,
   "metadata": {},
   "outputs": [
    {
     "name": "stdout",
     "output_type": "stream",
     "text": [
      "register node to http://localhost:5000\n"
     ]
    }
   ],
   "source": [
    "headers = {'Content-Type': 'application/json; charset=utf-8'}\n",
    "data = {\n",
    "    \"nodes\": 'http://localhost:5002'\n",
    "}\n",
    "requests.post(\"http://localhost:5000/nodes/register\", headers=headers, data=json.dumps(data))\n",
    "print(\"register node to http://localhost:5000\")"
   ]
  },
  {
   "cell_type": "code",
   "execution_count": 142,
   "metadata": {},
   "outputs": [
    {
     "data": {
      "text/plain": [
       "b'{\"message\":\"Transaction will be added to Block\"}\\n'"
      ]
     },
     "execution_count": 142,
     "metadata": {},
     "output_type": "execute_result"
    }
   ],
   "source": [
    "headers = {'Content-Type' : 'application/json; charset=utf-8'} \n",
    "data = {\n",
    "    \"sender\": \"test_from\",\n",
    "    \"recipient\": \"test_to\",\n",
    "    \"amount\": 3,\n",
    "}\n",
    "\n",
    "requests.post(\"http://localhost:5000/transactions/new\", headers=headers, data=json.dumps(data)).content"
   ]
  },
  {
   "cell_type": "code",
   "execution_count": 143,
   "metadata": {},
   "outputs": [
    {
     "name": "stdout",
     "output_type": "stream",
     "text": [
      "{'transactions': [{'amount': 3, 'recipient': 'test_to', 'sender': 'test_from', 'timestamp': 1727968665.2007313}]}\n"
     ]
    }
   ],
   "source": [
    "headers = {'Content-Type': 'application/json; charset=utf-8'} \n",
    "res = requests.get(\"http://localhost:5002/transactions\")\n",
    "print(json.loads(res.content))"
   ]
  },
  {
   "cell_type": "code",
   "execution_count": 147,
   "metadata": {},
   "outputs": [
    {
     "name": "stdout",
     "output_type": "stream",
     "text": [
      "{'chain': [{'header': {'index': 1, 'nonce': 100, 'previous_hash': 1, 'timestamp': 0}, 'transactions': []}, {'header': {'index': 2, 'nonce': 14891834296917421797, 'previous_hash': 'bc44dc751b3160103c16be611e20c3a58e4c2812d10849cb1b5f354149a6b14b', 'timestamp': 1727968688.4694135}, 'transactions': [{'amount': 0.1, 'recipient': 'node_5002', 'sender': 'master', 'timestamp': 1727968614.7527275}, {'amount': 3, 'recipient': 'test_to', 'sender': 'test_from', 'timestamp': 1727968665.2007313}]}], 'length': 2}\n"
     ]
    }
   ],
   "source": [
    "headers = {'Content-Type': 'application/json; charset=utf-8'} \n",
    "res = requests.get(\"http://localhost:5000/chain\")\n",
    "print(json.loads(res.content))"
   ]
  },
  {
   "cell_type": "code",
   "execution_count": 145,
   "metadata": {},
   "outputs": [
    {
     "name": "stdout",
     "output_type": "stream",
     "text": [
      "<Response [200]>\n"
     ]
    }
   ],
   "source": [
    "headers = {'Content-Type': 'application/json; charset=utf-8'} \n",
    "res = requests.get(\"http://localhost:5002/chain/mine\")\n",
    "print(res)"
   ]
  },
  {
   "cell_type": "markdown",
   "metadata": {},
   "source": [
    "# PyETH"
   ]
  },
  {
   "cell_type": "code",
   "execution_count": 15,
   "metadata": {},
   "outputs": [
    {
     "name": "stdout",
     "output_type": "stream",
     "text": [
      "{'contract': {'address': 'def133514b914cf5be43d6dd3e598f4916088efdac6a9821d0c753ab656e496a', 'code': \"print('Hello Smart-Contract')\"}, 'message': 'Transaction will be added to Block'}\n"
     ]
    }
   ],
   "source": [
    "headers = {'Content-Type' : 'application/json; charset=utf-8'} \n",
    "data = {\n",
    "    \"sender\": \"test_from\",\n",
    "    \"recipient\": \"test_to\",\n",
    "    \"amount\": 3,\n",
    "    \"contract\": \"print('Hello Smart-Contract')\"\n",
    "}\n",
    "\n",
    "res = requests.post(\"http://localhost:5000/transactions/new\", headers=headers, data=json.dumps(data))\n",
    "\n",
    "json.loads(res.content)"
   ]
  },
  {
   "cell_type": "code",
   "execution_count": 16,
   "metadata": {},
   "outputs": [
    {
     "name": "stdout",
     "output_type": "stream",
     "text": [
      "<Response [200]>\n"
     ]
    }
   ],
   "source": [
    "headers = {'Content-Type': 'application/json; charset=utf-8'} \n",
    "res = requests.get(\"http://localhost:5000/chain/mine\")\n",
    "print(res)"
   ]
  },
  {
   "cell_type": "code",
   "execution_count": 18,
   "metadata": {},
   "outputs": [
    {
     "name": "stdout",
     "output_type": "stream",
     "text": [
      "Hello Smart-Contract\n"
     ]
    }
   ],
   "source": [
    "headers = {'Content-Type': 'application/json; charset=utf-8'} \n",
    "res = requests.get(\"http://localhost:5000/chain\")\n",
    "res_json = json.loads(res.content)\n",
    "\n",
    "for _block in res_json['chain']:\n",
    "    for _tx in _block['transactions']:\n",
    "        if _tx['contract'] is not None:\n",
    "            exec( _tx['contract']['code'])"
   ]
  },
  {
   "cell_type": "markdown",
   "metadata": {},
   "source": [
    "## NFT"
   ]
  },
  {
   "cell_type": "code",
   "execution_count": 20,
   "metadata": {},
   "outputs": [],
   "source": [
    "headers = {'Content-Type' : 'application/json; charset=utf-8'} \n",
    "data = {\n",
    "    \"sender\": \"test_from\",\n",
    "    \"recipient\": \"test_to\",\n",
    "    \"amount\": 3,\n",
    "    \"contract\": \"\"\"\n",
    "myNFT = {\n",
    "    \"NFT_NAME\": \"SMARTCONTRACT_NFT\",\n",
    "    \"NFT_URL\": \"https://www.google.com/images/branding/googlelogo/1x/googlelogo_color_272x92dp.png\"\n",
    "}\n",
    "\"\"\"\n",
    "}\n",
    "\n",
    "res = requests.post(\"http://localhost:5000/transactions/new\", headers=headers, data=json.dumps(data))\n",
    "res_json = json.loads(res.content)\n",
    "contract_address = res_json['contract']['address']"
   ]
  },
  {
   "cell_type": "code",
   "execution_count": 27,
   "metadata": {},
   "outputs": [
    {
     "data": {
      "text/plain": [
       "'0782f768f281d57b2855adbd6b086c1147d276b3ad8a120b9c1018894a7b4eda'"
      ]
     },
     "execution_count": 27,
     "metadata": {},
     "output_type": "execute_result"
    }
   ],
   "source": [
    "contract_address"
   ]
  },
  {
   "cell_type": "code",
   "execution_count": 24,
   "metadata": {},
   "outputs": [
    {
     "name": "stdout",
     "output_type": "stream",
     "text": [
      "<Response [200]>\n"
     ]
    }
   ],
   "source": [
    "headers = {'Content-Type': 'application/json; charset=utf-8'} \n",
    "res = requests.get(\"http://localhost:5000/chain/mine\")\n",
    "print(res)"
   ]
  },
  {
   "cell_type": "code",
   "execution_count": 26,
   "metadata": {},
   "outputs": [
    {
     "data": {
      "text/plain": [
       "{'NFT_NAME': 'SMARTCONTRACT_NFT',\n",
       " 'NFT_URL': 'https://www.google.com/images/branding/googlelogo/1x/googlelogo_color_272x92dp.png'}"
      ]
     },
     "execution_count": 26,
     "metadata": {},
     "output_type": "execute_result"
    }
   ],
   "source": [
    "headers = {'Content-Type': 'application/json; charset=utf-8'} \n",
    "res = requests.get(\"http://localhost:5000/chain\")\n",
    "res_json = json.loads(res.content)\n",
    "\n",
    "for _block in res_json['chain']:\n",
    "    for _tx in _block['transactions']:\n",
    "        if _tx['contract'] is not None and _tx['contract']['address'] == contract_address:\n",
    "            exec(_tx['contract']['code'])\n",
    "\n",
    "myNFT"
   ]
  }
 ],
 "metadata": {
  "kernelspec": {
   "display_name": ".venv",
   "language": "python",
   "name": "python3"
  },
  "language_info": {
   "codemirror_mode": {
    "name": "ipython",
    "version": 3
   },
   "file_extension": ".py",
   "mimetype": "text/x-python",
   "name": "python",
   "nbconvert_exporter": "python",
   "pygments_lexer": "ipython3",
   "version": "3.11.2"
  }
 },
 "nbformat": 4,
 "nbformat_minor": 2
}
