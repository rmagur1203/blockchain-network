{
 "cells": [
  {
   "cell_type": "code",
   "execution_count": 6,
   "metadata": {},
   "outputs": [
    {
     "name": "stdout",
     "output_type": "stream",
     "text": [
      "Requirement already satisfied: requests in d:\\projects\\school\\blockchain\\.venv\\lib\\site-packages (2.32.3)\n",
      "Requirement already satisfied: charset-normalizer<4,>=2 in d:\\projects\\school\\blockchain\\.venv\\lib\\site-packages (from requests) (3.3.2)\n",
      "Requirement already satisfied: idna<4,>=2.5 in d:\\projects\\school\\blockchain\\.venv\\lib\\site-packages (from requests) (3.10)\n",
      "Requirement already satisfied: urllib3<3,>=1.21.1 in d:\\projects\\school\\blockchain\\.venv\\lib\\site-packages (from requests) (2.2.3)\n",
      "Requirement already satisfied: certifi>=2017.4.17 in d:\\projects\\school\\blockchain\\.venv\\lib\\site-packages (from requests) (2024.8.30)\n",
      "Note: you may need to restart the kernel to use updated packages.\n",
      "Requirement already satisfied: flask in d:\\projects\\school\\blockchain\\.venv\\lib\\site-packages (3.0.3)Note: you may need to restart the kernel to use updated packages.\n",
      "\n",
      "Requirement already satisfied: Werkzeug>=3.0.0 in d:\\projects\\school\\blockchain\\.venv\\lib\\site-packages (from flask) (3.0.4)\n",
      "Requirement already satisfied: Jinja2>=3.1.2 in d:\\projects\\school\\blockchain\\.venv\\lib\\site-packages (from flask) (3.1.4)\n",
      "Requirement already satisfied: itsdangerous>=2.1.2 in d:\\projects\\school\\blockchain\\.venv\\lib\\site-packages (from flask) (2.2.0)\n",
      "Requirement already satisfied: click>=8.1.3 in d:\\projects\\school\\blockchain\\.venv\\lib\\site-packages (from flask) (8.1.7)\n",
      "Requirement already satisfied: blinker>=1.6.2 in d:\\projects\\school\\blockchain\\.venv\\lib\\site-packages (from flask) (1.8.2)\n",
      "Requirement already satisfied: colorama in d:\\projects\\school\\blockchain\\.venv\\lib\\site-packages (from click>=8.1.3->flask) (0.4.6)\n",
      "Requirement already satisfied: MarkupSafe>=2.0 in d:\\projects\\school\\blockchain\\.venv\\lib\\site-packages (from Jinja2>=3.1.2->flask) (2.1.5)\n"
     ]
    }
   ],
   "source": [
    "%pip install requests\n",
    "%pip install flask\n",
    "\n",
    "import hashlib\n",
    "import json\n",
    "from time import time\n",
    "import random\n",
    "import requests\n",
    "from flask import Flask, jsonify, request"
   ]
  },
  {
   "cell_type": "code",
   "execution_count": 7,
   "metadata": {},
   "outputs": [],
   "source": [
    "DIFFICULTY = 4"
   ]
  },
  {
   "cell_type": "code",
   "execution_count": 8,
   "metadata": {},
   "outputs": [],
   "source": [
    "class Blockchain:\n",
    "    def __init__(self):\n",
    "        self.chain = []\n",
    "        self.current_transactions = []\n",
    "        self.nodes = set()\n",
    "\n",
    "        # Create the genesis block\n",
    "        self.new_block(previous_hash=1, proof=100)\n",
    "\n",
    "    @staticmethod\n",
    "    def hash(block):\n",
    "        block_string = json.dumps(block, sort_keys=True).encode()\n",
    "        return hashlib.sha256(block_string).hexdigest()\n",
    "    \n",
    "    @staticmethod\n",
    "    def valid_proof(last_proof, proof):\n",
    "        guess = f'{last_proof}{proof}'.encode()\n",
    "        guess_hash = hashlib.sha256(guess).hexdigest()\n",
    "        return guess_hash[:DIFFICULTY] == '0' * DIFFICULTY\n",
    "    \n",
    "    @property\n",
    "    def last_block(self):\n",
    "        return self.chain[-1]\n",
    "    \n",
    "    def pow(self, last_proof):\n",
    "        proof = random.randint(0, 2**64)\n",
    "        while self.valid_proof(last_proof, proof) is False:\n",
    "            proof = random.randint(0, 2**64)\n",
    "        return proof\n",
    "    \n",
    "    def new_transaction(self, sender, recipient, amount):\n",
    "        self.current_transactions.append({\n",
    "            'sender': sender,\n",
    "            'recipient': recipient,\n",
    "            'amount': amount,\n",
    "            'timestamp': time(),\n",
    "        })\n",
    "        return self.last_block['index'] + 1\n",
    "    \n",
    "    def new_block(self, proof, previous_hash=None):\n",
    "        block = {\n",
    "            'index': len(self.chain) + 1,\n",
    "            'timestamp': time(),\n",
    "            'transactions': self.current_transactions,\n",
    "            'nonce': proof,\n",
    "            'previous_hash': previous_hash or self.hash(self.chain[-1]),\n",
    "        }\n",
    "        self.current_transactions = []\n",
    "        self.chain.append(block)\n",
    "        return block\n",
    "    \n",
    "    def valid_chain(self, chain):\n",
    "        last_block = chain[0]\n",
    "        current_index = 1\n",
    "        while current_index < len(chain):\n",
    "            block = chain[current_index]\n",
    "            if block['previous_hash'] != self.hash(last_block):\n",
    "                return False\n",
    "            if not self.valid_proof(last_block['nonce'], block['nonce']):\n",
    "                return False\n",
    "            last_block = block\n",
    "            current_index += 1\n",
    "        return True\n"
   ]
  },
  {
   "cell_type": "code",
   "execution_count": 9,
   "metadata": {},
   "outputs": [],
   "source": [
    "blockchain = Blockchain()\n",
    "my_ip = '0.0.0.0'\n",
    "my_port = 5000\n",
    "node_identifier = f'node_{my_port}'\n",
    "mine_owner = 'master'\n",
    "mine_profit = 0.1"
   ]
  },
  {
   "cell_type": "code",
   "execution_count": 5,
   "metadata": {},
   "outputs": [
    {
     "name": "stdout",
     "output_type": "stream",
     "text": [
      " * Serving Flask app '__main__'\n",
      " * Debug mode: off\n"
     ]
    },
    {
     "name": "stderr",
     "output_type": "stream",
     "text": [
      "WARNING: This is a development server. Do not use it in a production deployment. Use a production WSGI server instead.\n",
      " * Running on all addresses (0.0.0.0)\n",
      " * Running on http://127.0.0.1:5000\n",
      " * Running on http://172.30.1.62:5000\n",
      "Press CTRL+C to quit\n",
      "127.0.0.1 - - [03/Oct/2024 02:16:38] \"GET /chain HTTP/1.1\" 200 -\n"
     ]
    },
    {
     "name": "stdout",
     "output_type": "stream",
     "text": [
      "chain info requested!\n"
     ]
    },
    {
     "name": "stderr",
     "output_type": "stream",
     "text": [
      "127.0.0.1 - - [03/Oct/2024 02:16:40] \"POST /transactions/new HTTP/1.1\" 201 -\n"
     ]
    },
    {
     "name": "stdout",
     "output_type": "stream",
     "text": [
      "transactions_new!!! :  {'sender': 'test_from', 'recipient': 'test_to', 'amount': 3}\n"
     ]
    },
    {
     "name": "stderr",
     "output_type": "stream",
     "text": [
      "127.0.0.1 - - [03/Oct/2024 02:16:42] \"GET /mine HTTP/1.1\" 200 -\n"
     ]
    },
    {
     "name": "stdout",
     "output_type": "stream",
     "text": [
      "MINING STARTED\n",
      "MINING FINISHED\n"
     ]
    },
    {
     "name": "stderr",
     "output_type": "stream",
     "text": [
      "127.0.0.1 - - [03/Oct/2024 02:16:51] \"GET /chain HTTP/1.1\" 200 -\n"
     ]
    },
    {
     "name": "stdout",
     "output_type": "stream",
     "text": [
      "chain info requested!\n"
     ]
    },
    {
     "name": "stderr",
     "output_type": "stream",
     "text": [
      "127.0.0.1 - - [03/Oct/2024 02:16:53] \"POST /transactions/new HTTP/1.1\" 201 -\n"
     ]
    },
    {
     "name": "stdout",
     "output_type": "stream",
     "text": [
      "transactions_new!!! :  {'sender': 'test_from', 'recipient': 'test_to', 'amount': 3}\n"
     ]
    },
    {
     "name": "stderr",
     "output_type": "stream",
     "text": [
      "127.0.0.1 - - [03/Oct/2024 02:16:55] \"GET /mine HTTP/1.1\" 200 -\n"
     ]
    },
    {
     "name": "stdout",
     "output_type": "stream",
     "text": [
      "MINING STARTED\n",
      "MINING FINISHED\n"
     ]
    },
    {
     "name": "stderr",
     "output_type": "stream",
     "text": [
      "127.0.0.1 - - [03/Oct/2024 02:16:57] \"GET /chain HTTP/1.1\" 200 -\n"
     ]
    },
    {
     "name": "stdout",
     "output_type": "stream",
     "text": [
      "chain info requested!\n"
     ]
    },
    {
     "name": "stderr",
     "output_type": "stream",
     "text": [
      "127.0.0.1 - - [03/Oct/2024 02:21:51] \"GET /chain HTTP/1.1\" 200 -\n"
     ]
    },
    {
     "name": "stdout",
     "output_type": "stream",
     "text": [
      "chain info requested!\n"
     ]
    },
    {
     "name": "stderr",
     "output_type": "stream",
     "text": [
      "127.0.0.1 - - [03/Oct/2024 02:22:05] \"GET /chain HTTP/1.1\" 200 -\n"
     ]
    },
    {
     "name": "stdout",
     "output_type": "stream",
     "text": [
      "chain info requested!\n"
     ]
    },
    {
     "name": "stderr",
     "output_type": "stream",
     "text": [
      "127.0.0.1 - - [03/Oct/2024 02:22:58] \"GET /chain HTTP/1.1\" 200 -\n"
     ]
    },
    {
     "name": "stdout",
     "output_type": "stream",
     "text": [
      "chain info requested!\n"
     ]
    },
    {
     "name": "stderr",
     "output_type": "stream",
     "text": [
      "127.0.0.1 - - [03/Oct/2024 02:23:52] \"GET /chain HTTP/1.1\" 200 -\n"
     ]
    },
    {
     "name": "stdout",
     "output_type": "stream",
     "text": [
      "chain info requested!\n"
     ]
    },
    {
     "name": "stderr",
     "output_type": "stream",
     "text": [
      "127.0.0.1 - - [03/Oct/2024 02:31:20] \"GET /chain HTTP/1.1\" 200 -\n"
     ]
    },
    {
     "name": "stdout",
     "output_type": "stream",
     "text": [
      "chain info requested!\n"
     ]
    }
   ],
   "source": [
    "app = Flask(__name__)\n",
    "\n",
    "@app.route('/chain', methods=['GET'])\n",
    "def full_chain():\n",
    "    print(\"chain info requested!\")\n",
    "    response = {\n",
    "        'chain': blockchain.chain,\n",
    "        'length': len(blockchain.chain),\n",
    "    }\n",
    "    return jsonify(response), 200\n",
    "\n",
    "@app.route('/transactions/new', methods=['POST'])\n",
    "def new_transaction():\n",
    "    values = request.get_json()\n",
    "    print(\"transactions_new!!! : \", values)\n",
    "    required = ['sender', 'recipient', 'amount']\n",
    "    if not all(k in values for k in required):\n",
    "        return 'missing values', 400\n",
    "    index = blockchain.new_transaction(values['sender'], values['recipient'], values['amount'])\n",
    "    response = {'message': 'Transaction will be added to Block {%s}' % index}\n",
    "    return jsonify(response), 201\n",
    "\n",
    "@app.route('/mine', methods=['GET'])\n",
    "def mine():\n",
    "    print(\"MINING STARTED\")\n",
    "    last_block = blockchain.last_block\n",
    "    last_proof = last_block['nonce']\n",
    "    proof = blockchain.pow(last_proof)\n",
    "    blockchain.new_transaction(\n",
    "        sender=mine_owner,\n",
    "        recipient=node_identifier,\n",
    "        amount=mine_profit  # coinbase transaction\n",
    "    )\n",
    "    previous_hash = blockchain.hash(last_block)\n",
    "    block = blockchain.new_block(proof, previous_hash)\n",
    "    print(\"MINING FINISHED\")\n",
    "    response = {\n",
    "        'message': 'new block found!',\n",
    "        'index': block['index'],\n",
    "        'transactions': block['transactions'],\n",
    "        'nonce': block['nonce'],\n",
    "        'previous_hash': block['previous_hash']\n",
    "    }\n",
    "    return jsonify(response), 200\n",
    "\n",
    "if __name__ == '__main__':\n",
    "    app.run(host=my_ip, port=my_port)\n"
   ]
  }
 ],
 "metadata": {
  "kernelspec": {
   "display_name": ".venv",
   "language": "python",
   "name": "python3"
  },
  "language_info": {
   "codemirror_mode": {
    "name": "ipython",
    "version": 3
   },
   "file_extension": ".py",
   "mimetype": "text/x-python",
   "name": "python",
   "nbconvert_exporter": "python",
   "pygments_lexer": "ipython3",
   "version": "3.11.2"
  }
 },
 "nbformat": 4,
 "nbformat_minor": 2
}
