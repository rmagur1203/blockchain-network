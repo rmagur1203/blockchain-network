{
 "cells": [
  {
   "cell_type": "code",
   "execution_count": 1,
   "metadata": {},
   "outputs": [
    {
     "name": "stdout",
     "output_type": "stream",
     "text": [
      "Requirement already satisfied: flask in d:\\projects\\school\\blockchain\\.venv\\lib\\site-packages (3.0.3)Note: you may need to restart the kernel to use updated packages.\n",
      "\n",
      "Requirement already satisfied: Werkzeug>=3.0.0 in d:\\projects\\school\\blockchain\\.venv\\lib\\site-packages (from flask) (3.0.4)\n",
      "Requirement already satisfied: Jinja2>=3.1.2 in d:\\projects\\school\\blockchain\\.venv\\lib\\site-packages (from flask) (3.1.4)\n",
      "Requirement already satisfied: itsdangerous>=2.1.2 in d:\\projects\\school\\blockchain\\.venv\\lib\\site-packages (from flask) (2.2.0)\n",
      "Requirement already satisfied: click>=8.1.3 in d:\\projects\\school\\blockchain\\.venv\\lib\\site-packages (from flask) (8.1.7)\n",
      "Requirement already satisfied: blinker>=1.6.2 in d:\\projects\\school\\blockchain\\.venv\\lib\\site-packages (from flask) (1.8.2)\n",
      "Requirement already satisfied: colorama in d:\\projects\\school\\blockchain\\.venv\\lib\\site-packages (from click>=8.1.3->flask) (0.4.6)\n",
      "Requirement already satisfied: MarkupSafe>=2.0 in d:\\projects\\school\\blockchain\\.venv\\lib\\site-packages (from Jinja2>=3.1.2->flask) (2.1.5)\n",
      "Requirement already satisfied: requests in d:\\projects\\school\\blockchain\\.venv\\lib\\site-packages (2.32.3)\n",
      "Requirement already satisfied: charset-normalizer<4,>=2 in d:\\projects\\school\\blockchain\\.venv\\lib\\site-packages (from requests) (3.3.2)\n",
      "Requirement already satisfied: idna<4,>=2.5 in d:\\projects\\school\\blockchain\\.venv\\lib\\site-packages (from requests) (3.10)\n",
      "Requirement already satisfied: urllib3<3,>=1.21.1 in d:\\projects\\school\\blockchain\\.venv\\lib\\site-packages (from requests) (2.2.3)\n",
      "Requirement already satisfied: certifi>=2017.4.17 in d:\\projects\\school\\blockchain\\.venv\\lib\\site-packages (from requests) (2024.8.30)\n",
      "Note: you may need to restart the kernel to use updated packages.\n",
      "Requirement already satisfied: pandas in d:\\projects\\school\\blockchain\\.venv\\lib\\site-packages (2.2.3)\n",
      "Requirement already satisfied: numpy>=1.23.2 in d:\\projects\\school\\blockchain\\.venv\\lib\\site-packages (from pandas) (2.1.1)\n",
      "Requirement already satisfied: python-dateutil>=2.8.2 in d:\\projects\\school\\blockchain\\.venv\\lib\\site-packages (from pandas) (2.9.0.post0)\n",
      "Requirement already satisfied: pytz>=2020.1 in d:\\projects\\school\\blockchain\\.venv\\lib\\site-packages (from pandas) (2024.2)\n",
      "Requirement already satisfied: tzdata>=2022.7 in d:\\projects\\school\\blockchain\\.venv\\lib\\site-packages (from pandas) (2024.2)\n",
      "Requirement already satisfied: six>=1.5 in d:\\projects\\school\\blockchain\\.venv\\lib\\site-packages (from python-dateutil>=2.8.2->pandas) (1.16.0)\n",
      "Note: you may need to restart the kernel to use updated packages.\n"
     ]
    }
   ],
   "source": [
    "%pip install flask\n",
    "%pip install requests\n",
    "%pip install pandas\n",
    "\n",
    "from flask import Flask\n",
    "from datetime import datetime\n",
    "from flask import render_template\n",
    "from flask import request\n",
    "from flask import url_for \n",
    "from flask import redirect\n",
    "\n",
    "import requests\n",
    "import json\n",
    "import os\n",
    "import pandas as pd"
   ]
  },
  {
   "cell_type": "code",
   "execution_count": 2,
   "metadata": {},
   "outputs": [
    {
     "name": "stdout",
     "output_type": "stream",
     "text": [
      " * Serving Flask app '__main__'\n",
      " * Debug mode: off\n"
     ]
    },
    {
     "name": "stderr",
     "output_type": "stream",
     "text": [
      "WARNING: This is a development server. Do not use it in a production deployment. Use a production WSGI server instead.\n",
      " * Running on http://127.0.0.1:8081\n",
      "Press CTRL+C to quit\n",
      "127.0.0.1 - - [03/Oct/2024 02:31:15] \"GET / HTTP/1.1\" 200 -\n"
     ]
    },
    {
     "name": "stdout",
     "output_type": "stream",
     "text": [
      "login 버튼을 누름\n",
      "login 지갑주소 :  master\n"
     ]
    },
    {
     "name": "stderr",
     "output_type": "stream",
     "text": [
      "127.0.0.1 - - [03/Oct/2024 02:31:20] \"POST / HTTP/1.1\" 200 -\n"
     ]
    },
    {
     "name": "stdout",
     "output_type": "stream",
     "text": [
      "로그인성공\n"
     ]
    }
   ],
   "source": [
    "app = Flask(__name__, template_folder=os.getcwd())\n",
    "\n",
    "# login 기능\n",
    "@app.route('/', methods=['GET', 'POST'])\n",
    "def login():\n",
    "    if request.method == 'POST':\n",
    "        print(\"login 버튼을 누름\")\n",
    "        input_value = request.form.to_dict(flat=False)['wallet_id'][0]\n",
    "        print(\"login 지갑주소 : \", input_value)\n",
    "        headers = {'Content-Type': 'application/json; charset=utf-8'}\n",
    "        res = requests.get(\"http://localhost:5000/chain\", headers=headers)\n",
    "        status_json = json.loads(res.text)\n",
    "        status_json['chain']\n",
    "        tx_amount_l = []\n",
    "        tx_sender_l = []\n",
    "        tx_reciv_l = []\n",
    "        tx_time_l = []\n",
    "        \n",
    "        # 거래 내역 정리 (df_tx)\n",
    "        for chain_index in range(len(status_json['chain'])):\n",
    "            chain_tx = status_json['chain'][chain_index]['transactions']\n",
    "            for each_tx in range(len(chain_tx)):\n",
    "                tx_amount_l.append(chain_tx[each_tx]['amount'])\n",
    "                tx_sender_l.append(chain_tx[each_tx]['sender'])\n",
    "                tx_reciv_l.append(chain_tx[each_tx]['recipient'])\n",
    "                tx_time_l.append(chain_tx[each_tx]['timestamp'])\n",
    "        \n",
    "        df_tx = pd.DataFrame()\n",
    "        df_tx['timestamp'] = tx_time_l\n",
    "        df_tx['sender'] = tx_sender_l\n",
    "        df_tx['recipient'] = tx_reciv_l\n",
    "        df_tx['amount'] = tx_amount_l\n",
    "        \n",
    "        # pyBTC 잔고 현황 정리 (df_status)\n",
    "        df_sended = pd.DataFrame(df_tx.groupby('sender')['amount'].sum()).reset_index()\n",
    "        df_sended.columns = ['user', 'sended_amount']\n",
    "        df_received = pd.DataFrame(df_tx.groupby('recipient')['amount'].sum()).reset_index()\n",
    "        df_received.columns = ['user', 'received_amount']\n",
    "        df_status = pd.merge(df_received, df_sended, on='user', how='outer').fillna(0)\n",
    "        df_status['balance'] = df_status['received_amount'] - df_status['sended_amount']\n",
    "        \n",
    "        # 결과값 렌더링\n",
    "        if (df_status['user'] == input_value).sum() == 1:\n",
    "            print(\"로그인성공\")\n",
    "            return render_template(\"wallet.html\", wallet_id=input_value, wallet_value=df_status[df_status['user'] == input_value]['balance'].iloc[0])\n",
    "        else:\n",
    "            return \"잘못된 지갑주소입니다.\"\n",
    "    return render_template('login.html')\n",
    "\n",
    "# 지갑 기능\n",
    "@app.route('/wallet', methods=['GET', 'POST'])\n",
    "def wallet():\n",
    "    if request.method == 'POST':\n",
    "        send_value = int(request.form.to_dict(flat=False)['send_value'][0])\n",
    "        send_target = request.form.to_dict(flat=False)['send_target'][0]\n",
    "        send_from = request.form.to_dict(flat=False)['send_from'][0]\n",
    "        print(\"Login Wallet ID : \", send_from)\n",
    "        if send_value > 0:\n",
    "            print(\"Send Amount :\", send_value)\n",
    "            headers = {'Content-Type': 'application/json; charset=utf-8'}\n",
    "            data = {\n",
    "                \"sender\": send_from,\n",
    "                \"recipient\": send_target,\n",
    "                \"amount\": send_value,\n",
    "            }\n",
    "            requests.post(\"http://localhost:5000/transactions/new\", headers=headers, data=json.dumps(data))\n",
    "            return \"전송 완료!\"\n",
    "        else:\n",
    "            return \"0 pyBTC 이상 보내주세요!\"\n",
    "    return render_template('wallet.html')\n",
    "\n",
    "# 지갑 사이트 실행\n",
    "app.run(port=8081)"
   ]
  }
 ],
 "metadata": {
  "kernelspec": {
   "display_name": ".venv",
   "language": "python",
   "name": "python3"
  },
  "language_info": {
   "codemirror_mode": {
    "name": "ipython",
    "version": 3
   },
   "file_extension": ".py",
   "mimetype": "text/x-python",
   "name": "python",
   "nbconvert_exporter": "python",
   "pygments_lexer": "ipython3",
   "version": "3.11.2"
  }
 },
 "nbformat": 4,
 "nbformat_minor": 2
}
