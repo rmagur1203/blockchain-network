{
 "cells": [
  {
   "cell_type": "code",
   "execution_count": 86,
   "metadata": {},
   "outputs": [
    {
     "name": "stdout",
     "output_type": "stream",
     "text": [
      "Requirement already satisfied: requests in d:\\projects\\school\\blockchain\\.venv\\lib\\site-packages (2.32.3)Note: you may need to restart the kernel to use updated packages.\n",
      "\n",
      "Requirement already satisfied: charset-normalizer<4,>=2 in d:\\projects\\school\\blockchain\\.venv\\lib\\site-packages (from requests) (3.3.2)\n",
      "Requirement already satisfied: idna<4,>=2.5 in d:\\projects\\school\\blockchain\\.venv\\lib\\site-packages (from requests) (3.10)\n",
      "Requirement already satisfied: urllib3<3,>=1.21.1 in d:\\projects\\school\\blockchain\\.venv\\lib\\site-packages (from requests) (2.2.3)\n",
      "Requirement already satisfied: certifi>=2017.4.17 in d:\\projects\\school\\blockchain\\.venv\\lib\\site-packages (from requests) (2024.8.30)\n"
     ]
    }
   ],
   "source": [
    "%pip install requests\n",
    "\n",
    "import requests\n",
    "import json"
   ]
  },
  {
   "cell_type": "code",
   "execution_count": 87,
   "metadata": {},
   "outputs": [
    {
     "name": "stdout",
     "output_type": "stream",
     "text": [
      "register node to http://localhost:5000\n"
     ]
    }
   ],
   "source": [
    "headers = {'Content-Type': 'application/json; charset=utf-8'}\n",
    "data = {\n",
    "    \"nodes\": 'http://localhost:5001'\n",
    "}\n",
    "requests.post(\"http://localhost:5000/nodes/register\", headers=headers, data=json.dumps(data))\n",
    "print(\"register node to http://localhost:5000\")"
   ]
  },
  {
   "cell_type": "code",
   "execution_count": 88,
   "metadata": {},
   "outputs": [
    {
     "name": "stdout",
     "output_type": "stream",
     "text": [
      "register node to http://localhost:5000\n"
     ]
    }
   ],
   "source": [
    "headers = {'Content-Type': 'application/json; charset=utf-8'}\n",
    "data = {\n",
    "    \"nodes\": 'http://localhost:5002'\n",
    "}\n",
    "requests.post(\"http://localhost:5000/nodes/register\", headers=headers, data=json.dumps(data))\n",
    "print(\"register node to http://localhost:5000\")"
   ]
  },
  {
   "cell_type": "code",
   "execution_count": 89,
   "metadata": {},
   "outputs": [
    {
     "data": {
      "text/plain": [
       "b'{\"message\":\"Transaction will be added to Block\"}\\n'"
      ]
     },
     "execution_count": 89,
     "metadata": {},
     "output_type": "execute_result"
    }
   ],
   "source": [
    "headers = {'Content-Type' : 'application/json; charset=utf-8'} \n",
    "data = {\n",
    "    \"sender\": \"test_from\",\n",
    "    \"recipient\": \"test_to\",\n",
    "    \"amount\": 3,\n",
    "}\n",
    "\n",
    "requests.post(\"http://localhost:5000/transactions/new\", headers=headers, data=json.dumps(data)).content"
   ]
  },
  {
   "cell_type": "code",
   "execution_count": 90,
   "metadata": {},
   "outputs": [
    {
     "name": "stdout",
     "output_type": "stream",
     "text": [
      "{'transactions': [{'amount': 3, 'recipient': 'test_to', 'sender': 'test_from', 'timestamp': 1727967324.7744246}]}\n"
     ]
    }
   ],
   "source": [
    "headers = {'Content-Type': 'application/json; charset=utf-8'} \n",
    "res = requests.get(\"http://localhost:5002/transactions\")\n",
    "print(json.loads(res.content))"
   ]
  },
  {
   "cell_type": "code",
   "execution_count": 91,
   "metadata": {},
   "outputs": [
    {
     "name": "stdout",
     "output_type": "stream",
     "text": [
      "{'chain': [{'header': {'nonce': 100, 'previous_hash': 1, 'timestamp': 1727967284.1629903}, 'transactions': []}], 'length': 1}\n"
     ]
    }
   ],
   "source": [
    "headers = {'Content-Type': 'application/json; charset=utf-8'} \n",
    "res = requests.get(\"http://localhost:5002/chain\")\n",
    "print(json.loads(res.content))"
   ]
  },
  {
   "cell_type": "code",
   "execution_count": 92,
   "metadata": {},
   "outputs": [
    {
     "name": "stdout",
     "output_type": "stream",
     "text": [
      "<Response [404]>\n"
     ]
    }
   ],
   "source": [
    "headers = {'Content-Type': 'application/json; charset=utf-8'} \n",
    "res = requests.get(\"http://localhost:5002/chain/mine\")\n",
    "print(res)"
   ]
  }
 ],
 "metadata": {
  "kernelspec": {
   "display_name": ".venv",
   "language": "python",
   "name": "python3"
  },
  "language_info": {
   "codemirror_mode": {
    "name": "ipython",
    "version": 3
   },
   "file_extension": ".py",
   "mimetype": "text/x-python",
   "name": "python",
   "nbconvert_exporter": "python",
   "pygments_lexer": "ipython3",
   "version": "3.11.2"
  }
 },
 "nbformat": 4,
 "nbformat_minor": 2
}
